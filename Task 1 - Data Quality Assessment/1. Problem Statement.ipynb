{
 "cells": [
  {
   "cell_type": "markdown",
   "metadata": {},
   "source": [
    "https://www.theforage.com/modules/m7W4GMqeT3bh9Nb2c/S3uFvbDL49EA43ukg"
   ]
  },
  {
   "cell_type": "markdown",
   "metadata": {},
   "source": [
    "### 1. Get your instructions from your supervisor\n",
    "- Watch this video and hear about your task."
   ]
  },
  {
   "cell_type": "markdown",
   "metadata": {},
   "source": [
    "- Assessment of **data quality and completeness** in preparation for analysis\n",
    "\n",
    "\n",
    "- When we initially **recieve data sets from the clients**, that tends to be **various issues** with the data regarding things like, \n",
    "  - Accuracy\n",
    "  - Completeness\n",
    "  - Duplicate Values"
   ]
  },
  {
   "cell_type": "markdown",
   "metadata": {},
   "source": [
    "### 2. Here is the background information on your task"
   ]
  },
  {
   "cell_type": "markdown",
   "metadata": {},
   "source": [
    "- Sprocket Central Pty Ltd , a medium size bikes & cycling accessories organisation, has approached Tony Smith (Partner) in KPMG’s Lighthouse & Innovation Team. Sprocket Central Pty Ltd  is keen to learn more about KPMG’s expertise in its Analytics, Information & Modelling team.\n",
    "\n",
    "\n",
    "- Smith discusses KPMG’s expertise in this space (you can read more here). In particular, he speaks about how the team can effectively analyse the datasets to help Sprocket Central Pty Ltd grow its business.\n",
    "\n",
    "\n",
    "- Primarily, Sprocket Central Pty Ltd needs help with its customer and transactions data. The organisation has a large dataset relating to its customers, but their team is unsure how to effectively analyse it to help optimise its marketing strategy.\n",
    "\n",
    "\n",
    "- However, in order to support the analysis, you speak to the Associate Director for some ideas and she advised that “the importance of optimising the quality of customer datasets cannot be underestimated. The better the quality of the dataset, the better chance you will be able to use it drive company growth.”\n",
    "\n",
    "\n",
    "- The client provided KPMG with 3 datasets:\n",
    "\n",
    "  - Customer Demographic \n",
    "  - Customer Addresses\n",
    "  - Transactions data in the past 3 months\n",
    "  \n",
    "  \n",
    "- You decide to start the preliminary data exploration and identify ways to improve the quality of Sprocket Central Pty Ltd’s data."
   ]
  },
  {
   "cell_type": "markdown",
   "metadata": {},
   "source": [
    "### 3. Here is your task"
   ]
  },
  {
   "cell_type": "markdown",
   "metadata": {},
   "source": [
    "- You arrive at your desk after the initial client meeting. You have a voicemail on your phone which contains the following instructions."
   ]
  },
  {
   "cell_type": "markdown",
   "metadata": {},
   "source": [
    "![Task 1 - Data Quality Assessment](image/2.JPG)"
   ]
  },
  {
   "cell_type": "markdown",
   "metadata": {},
   "source": [
    "- “Hi there – Welcome again to the team! The client has asked our team to assess the quality of their data; as well as make recommendations on ways to clean the underlying data and mitigate these issues.  Can you please take a look at the datasets we’ve received and draft an email to them identifying the data quality issues and how this may impact our analysis going forward?\n",
    "\n",
    "\n",
    "- I will send through an example of a typical data quality framework that can be used as a guide. Remember to consider the join keys between the tables too. Thanks again for your help.”"
   ]
  },
  {
   "cell_type": "markdown",
   "metadata": {},
   "source": [
    "#### [Read email below]\n",
    "\n",
    "Hi there,\n",
    "\n",
    "As per voicemail, please find the 3 datasets attached from Sprocket Central Pty Ltd:\n",
    "\n",
    "Customer Demographic \n",
    "Customer Addresses\n",
    "Transaction data in the past three months\n",
    "Can you please review the data quality to ensure that it is ready for our analysis in phase two. Remember to take note of any assumptions or issues we need to go back to the client on. As well as recommendations going forward to mitigate current data quality concerns.\n",
    "\n",
    "I’ve also attached a data quality framework as a guideline. Let me know if you have any questions.\n",
    "\n",
    "Thanks for your help.\n",
    "\n",
    "Kind Regards\n",
    "Your Manager\n"
   ]
  },
  {
   "cell_type": "markdown",
   "metadata": {},
   "source": [
    "#### Here is your task:\n",
    "- **Draft an email** to the client identifying the data quality issues and strategies to mitigate these issues. Refer to ‘Data Quality Framework Table’ and resources below for criteria and dimensions which you should consider."
   ]
  },
  {
   "cell_type": "markdown",
   "metadata": {},
   "source": [
    "![Task 1 - Data Quality Assessment](image/3.JPG)"
   ]
  },
  {
   "cell_type": "markdown",
   "metadata": {},
   "source": [
    "### 4. Resources to help you with the task"
   ]
  },
  {
   "cell_type": "markdown",
   "metadata": {},
   "source": [
    "#### Data Quality Framework Table\n",
    "- Below is a list of the Data Quality dimensions our team may use to evaluate a dataset. Some of these terms are common to the whole industry, so you may find more information and clarity on these terms by searching online."
   ]
  },
  {
   "cell_type": "markdown",
   "metadata": {},
   "source": [
    "![Task 1 - Data Quality Assessment](image/1.JPG)"
   ]
  }
 ],
 "metadata": {
  "kernelspec": {
   "display_name": "Python 3",
   "language": "python",
   "name": "python3"
  },
  "language_info": {
   "codemirror_mode": {
    "name": "ipython",
    "version": 3
   },
   "file_extension": ".py",
   "mimetype": "text/x-python",
   "name": "python",
   "nbconvert_exporter": "python",
   "pygments_lexer": "ipython3",
   "version": "3.7.3"
  }
 },
 "nbformat": 4,
 "nbformat_minor": 2
}
